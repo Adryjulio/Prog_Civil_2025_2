{
  "nbformat": 4,
  "nbformat_minor": 0,
  "metadata": {
    "colab": {
      "provenance": [],
      "authorship_tag": "ABX9TyPw/zpxjFC0Omy1FZYmEJci",
      "include_colab_link": true
    },
    "kernelspec": {
      "name": "python3",
      "display_name": "Python 3"
    },
    "language_info": {
      "name": "python"
    }
  },
  "cells": [
    {
      "cell_type": "markdown",
      "metadata": {
        "id": "view-in-github",
        "colab_type": "text"
      },
      "source": [
        "<a href=\"https://colab.research.google.com/github/justorfc/Prog_Civil_2025_2/blob/main/Semana_2_y_3_CIVIL.ipynb\" target=\"_parent\"><img src=\"https://colab.research.google.com/assets/colab-badge.svg\" alt=\"Open In Colab\"/></a>"
      ]
    },
    {
      "cell_type": "markdown",
      "source": [
        "#  Situación 1: Clasificador de pH del Suelo\n",
        "\n",
        "El pH del suelo es un factor crítico para la absorción de\n",
        " nutrientes por parte de las plantas. Desarrollarás un programa que recibe un valor de pH e informa al agricultor si el suelo es ácido, neutro o alcalino, ofreciendo una recomendación general."
      ],
      "metadata": {
        "id": "IsHnu_Wj_Nor"
      }
    },
    {
      "cell_type": "code",
      "source": [
        "# Explicar al usuario que el programa clasifica el pH del suelo.\n",
        "print(\"Este programa clasifica el pH del suelo.\")\n",
        "\n",
        "# Pedir al usuario que ingrese el valor de pH medido (puede ser decimal).\n",
        "# Guardar el valor en una variable.\n",
        "pH = float(input(\"Por favor ingrese el valor de pH medido: \"))\n",
        "\n",
        "# Utilizar una estructura 'if' para la primera condición: si el pH es menor que 7.0.\n",
        "# Dentro del 'if', mostrar un mensaje indicando que el suelo es \"Ácido\" y recomendar el uso de cal agrícola.\n",
        "if pH < 7:\n",
        "    print(\"El suelo es ácido.\")\n",
        "    print(\"recomendar el uso de cal agrícola.\")\n",
        "# Utilizar una estructura 'elif' para la segunda condición: si el pH es mayor que 7.\n",
        "elif pH > 7:\n",
        "    # Dentro del 'elif', mostrar un mensaje indicando que el suelo es \"Alcalino\" y recomendar el uso de fertilizantes.\n",
        "    print(\"El suelo es alcalino.\")\n",
        "    print(\"recomendar el uso de fertilizantes.\")\n",
        "else:\n",
        "    # Dentro del 'else', mostrar un mensaje indicando que el suelo es \"Neutro\" y que\n",
        "    # es ideal para la mayoría de los cultivos.\n",
        "    print(\"El suelo es neutro.\")\n",
        "    print(\"es ideal para la mayoría de los cultivos.\")"
      ],
      "metadata": {
        "colab": {
          "base_uri": "https://localhost:8080/"
        },
        "id": "xZuUgl1T_dq2",
        "outputId": "9a6730c1-f624-4cc1-f7a5-7b9cfc8cd877"
      },
      "execution_count": 7,
      "outputs": [
        {
          "output_type": "stream",
          "name": "stdout",
          "text": [
            "Este programa clasifica el pH del suelo.\n",
            "Por favor ingrese el valor de pH medido: 7\n",
            "El suelo es neutro.\n",
            "es ideal para la mayoría de los cultivos.\n"
          ]
        }
      ]
    }
  ]
}