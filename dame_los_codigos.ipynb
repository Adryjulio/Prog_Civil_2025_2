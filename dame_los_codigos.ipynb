{
  "cells": [
    {
      "cell_type": "markdown",
      "metadata": {
        "id": "view-in-github",
        "colab_type": "text"
      },
      "source": [
        "<a href=\"https://colab.research.google.com/github/Adryjulio/Prog_Civil_2025_2/blob/main/dame_los_codigos.ipynb\" target=\"_parent\"><img src=\"https://colab.research.google.com/assets/colab-badge.svg\" alt=\"Open In Colab\"/></a>"
      ]
    },
    {
      "cell_type": "markdown",
      "source": [
        "Aquí tienes ejemplos de código para listas, duplas y diccionarios en Python, mostrando cómo crearlos y manipularlos.\n",
        "\n",
        "## Listas 📝\n",
        "\n",
        "Las **listas** son colecciones **mutables** y ordenadas de elementos.\n",
        "\n",
        "### Creación y acceso"
      ],
      "metadata": {
        "id": "0yJ07yCBMiGM"
      }
    },
    {
      "cell_type": "code",
      "source": [
        "# Creando una lista\n",
        "frutas = ['manzana', 'banana', 'cereza']\n",
        "print(frutas)\n",
        "\n",
        "# Accediendo a un elemento por su índice\n",
        "print(frutas[0])  # Salida: 'manzana'"
      ],
      "outputs": [],
      "execution_count": null,
      "metadata": {
        "id": "lPXidTfGMiGP"
      }
    },
    {
      "cell_type": "markdown",
      "source": [
        "-----\n",
        "\n",
        "### Modificación y métodos"
      ],
      "metadata": {
        "id": "0Vr-60R9MiGQ"
      }
    },
    {
      "cell_type": "code",
      "source": [
        "# Cambiando un elemento\n",
        "frutas[1] = 'kiwi'\n",
        "print(frutas)  # Salida: ['manzana', 'kiwi', 'cereza']\n",
        "\n",
        "# Agregando un elemento al final\n",
        "frutas.append('naranja')\n",
        "print(frutas)  # Salida: ['manzana', 'kiwi', 'cereza', 'naranja']\n",
        "\n",
        "# Eliminando un elemento\n",
        "frutas.remove('manzana')\n",
        "print(frutas)  # Salida: ['kiwi', 'cereza', 'naranja']"
      ],
      "outputs": [],
      "execution_count": null,
      "metadata": {
        "id": "2s9kP5XCMiGQ"
      }
    },
    {
      "cell_type": "markdown",
      "source": [
        "-----\n",
        "\n",
        "## Duplas (Tuplas) 📚\n",
        "\n",
        "Las **duplas** son colecciones **inmutables** y ordenadas. No puedes cambiar sus elementos una vez creadas.\n",
        "\n",
        "### Creación y acceso"
      ],
      "metadata": {
        "id": "uNVP5hNhMiGQ"
      }
    },
    {
      "cell_type": "code",
      "source": [
        "# Creando una dupla\n",
        "coordenadas = (10.0, 20.0)\n",
        "print(coordenadas)\n",
        "\n",
        "# Accediendo a un elemento\n",
        "print(coordenadas[0])  # Salida: 10.0"
      ],
      "outputs": [],
      "execution_count": null,
      "metadata": {
        "id": "9h6dSITiMiGQ"
      }
    },
    {
      "cell_type": "markdown",
      "source": [
        "-----\n",
        "\n",
        "### Intentando modificar (¡Esto causará un error\\!)"
      ],
      "metadata": {
        "id": "BxJVrU8nMiGR"
      }
    },
    {
      "cell_type": "code",
      "source": [
        "# Descomenta la siguiente línea para ver el error\n",
        "# coordenadas[0] = 30.0\n",
        "# TypeError: 'tuple' object does not support item assignment"
      ],
      "outputs": [],
      "execution_count": null,
      "metadata": {
        "id": "ua7hFQK3MiGR"
      }
    },
    {
      "cell_type": "markdown",
      "source": [
        "-----\n",
        "\n",
        "## Diccionarios\n",
        "\n",
        "Los **diccionarios** son colecciones **mutables** de pares clave-valor.\n",
        "\n",
        "### Creación y acceso"
      ],
      "metadata": {
        "id": "bYtszJ6jMiGR"
      }
    },
    {
      "cell_type": "code",
      "source": [
        "# Creando un diccionario\n",
        "persona = {\n",
        "    'nombre': 'Ana',\n",
        "    'edad': 25,\n",
        "    'ciudad': 'Madrid'\n",
        "}\n",
        "print(persona)\n",
        "\n",
        "# Accediendo a un valor por su clave\n",
        "print(persona['nombre'])  # Salida: 'Ana'"
      ],
      "outputs": [],
      "execution_count": null,
      "metadata": {
        "id": "EqjMMzXwMiGR"
      }
    },
    {
      "cell_type": "markdown",
      "source": [
        "-----\n",
        "\n",
        "### Modificación y métodos"
      ],
      "metadata": {
        "id": "P63kt9NiMiGS"
      }
    },
    {
      "cell_type": "code",
      "source": [
        "# Cambiando el valor de una clave existente\n",
        "persona['edad'] = 26\n",
        "print(persona)  # Salida: {'nombre': 'Ana', 'edad': 26, 'ciudad': 'Madrid'}\n",
        "\n",
        "# Agregando una nueva clave-valor\n",
        "persona['profesion'] = 'ingeniera'\n",
        "print(persona) # Salida: {'nombre': 'Ana', 'edad': 26, 'ciudad': 'Madrid', 'profesion': 'ingeniera'}\n",
        "\n",
        "# Eliminando una clave-valor\n",
        "del persona['ciudad']\n",
        "print(persona) # Salida: {'nombre': 'Ana', 'edad': 26, 'profesion': 'ingeniera'}"
      ],
      "outputs": [],
      "execution_count": null,
      "metadata": {
        "id": "58RXlyeTMiGS"
      }
    }
  ],
  "metadata": {
    "colab": {
      "provenance": [],
      "include_colab_link": true
    },
    "kernelspec": {
      "display_name": "Python 3",
      "name": "python3"
    }
  },
  "nbformat": 4,
  "nbformat_minor": 0
}