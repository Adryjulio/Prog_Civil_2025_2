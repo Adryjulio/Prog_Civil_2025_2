{
  "nbformat": 4,
  "nbformat_minor": 0,
  "metadata": {
    "colab": {
      "provenance": [],
      "authorship_tag": "ABX9TyOcJizSFpGRhnZs/tfV1FWD",
      "include_colab_link": true
    },
    "kernelspec": {
      "name": "python3",
      "display_name": "Python 3"
    },
    "language_info": {
      "name": "python"
    }
  },
  "cells": [
    {
      "cell_type": "markdown",
      "metadata": {
        "id": "view-in-github",
        "colab_type": "text"
      },
      "source": [
        "<a href=\"https://colab.research.google.com/github/Adryjulio/Prog_Civil_2025_2/blob/main/semana_4y_5.ipynb\" target=\"_parent\"><img src=\"https://colab.research.google.com/assets/colab-badge.svg\" alt=\"Open In Colab\"/></a>"
      ]
    },
    {
      "cell_type": "markdown",
      "source": [
        " #Caso de Ingeniería Civil: Calculadora de Peso Estructural (Diccionarios y Funciones)\n",
        "\n",
        " • Paso a Paso del Código:\n",
        "\n",
        " 1. Crear un diccionario que funcione como una base de datos de densidades. La clave será el\n",
        " nombre del material y el valor será su densidad en kg/m³.\n",
        " 2. Crear una función calcular_peso que reciba el diccionario de densidades, el nombre del material\n",
        " y su volumen.\n",
        " 3. Dentro de la función, buscar la densidad del material en el diccionario.\n",
        " 4. Si el material existe, calcular y devolver el peso (densidad * volumen). Si no, devolver un mensaje\n",
        " de error o None.\n",
        " 5. En el programa principal, pedir al usuario el tipo de material y las dimensiones del elemento para\n",
        " calcular su volumen.\n",
        " 6. Llamar a la función calcular_peso y mostrar el resultado."
      ],
      "metadata": {
        "id": "N1s2NA9Ze68v"
      }
    },
    {
      "cell_type": "code",
      "source": [],
      "metadata": {
        "id": "KUDdeVOkfISV"
      },
      "execution_count": null,
      "outputs": []
    },
    {
      "cell_type": "code",
      "metadata": {
        "colab": {
          "base_uri": "https://localhost:8080/"
        },
        "id": "2f4296c6",
        "outputId": "b6def4d6-75d0-4b80-8f46-1f64e6232e34"
      },
      "source": [
        "# 1. Crear un diccionario de densidades\n",
        "densidades = {\n",
        "    \"acero\": 7850,  # kg/m³\n",
        "    \"concreto\": 2400, # kg/m³\n",
        "    \"madera\": 700    # kg/m³ (valor promedio, varía según tipo)\n",
        "}\n",
        "\n",
        "# 2. Crear la función calcular_peso\n",
        "def calcular_peso(diccionario_densidades, material, volumen):\n",
        "    \"\"\"\n",
        "    Calcula el peso de un elemento estructural.\n",
        "\n",
        "    Args:\n",
        "        diccionario_densidades: Diccionario con las densidades de los materiales.\n",
        "        material: Nombre del material (string).\n",
        "        volumen: Volumen del elemento en m³ (float).\n",
        "\n",
        "    Returns:\n",
        "        El peso del elemento en kg (float) si el material existe,\n",
        "        o un mensaje de error (string) si el material no se encuentra.\n",
        "    \"\"\"\n",
        "    if material.lower() in diccionario_densidades:\n",
        "        densidad = diccionario_densidades[material.lower()]\n",
        "        peso = densidad * volumen\n",
        "        return peso\n",
        "    else:\n",
        "        return f\"Error: Material '{material}' no encontrado en la base de datos de densidades.\"\n",
        "\n",
        "# 5. En el programa principal, pedir al usuario el tipo de material y las dimensiones\n",
        "\n",
        "print(\"--- Calculadora de Peso Estructural ---\")\n",
        "\n",
        "material_elemento = input(\"Ingrese el tipo de material (acero, concreto, madera): \")\n",
        "\n",
        "try:\n",
        "    largo = float(input(\"Ingrese el largo del elemento en metros: \"))\n",
        "    ancho = float(input(\"Ingrese el ancho del elemento en metros: \"))\n",
        "    alto = float(input(\"Ingrese el alto del elemento en metros: \"))\n",
        "\n",
        "    # Calcular el volumen\n",
        "    volumen_elemento = largo * ancho * alto\n",
        "\n",
        "    # 6. Llamar a la función calcular_peso y mostrar el resultado\n",
        "    peso_calculado = calcular_peso(densidades, material_elemento, volumen_elemento)\n",
        "\n",
        "    if isinstance(peso_calculado, (int, float)):\n",
        "        print(f\"\\nEl peso del elemento de {material_elemento} con un volumen de {volumen_elemento:.2f} m³ es: {peso_calculado:.2f} kg\")\n",
        "    else:\n",
        "        print(peso_calculado) # Muestra el mensaje de error\n",
        "\n",
        "except ValueError:\n",
        "    print(\"Error: Por favor, ingrese valores numéricos válidos para las dimensiones.\")"
      ],
      "execution_count": 6,
      "outputs": [
        {
          "output_type": "stream",
          "name": "stdout",
          "text": [
            "--- Calculadora de Peso Estructural ---\n",
            "Ingrese el tipo de material (acero, concreto, madera): acero\n",
            "Ingrese el largo del elemento en metros: 4\n",
            "Ingrese el ancho del elemento en metros: 7\n",
            "Ingrese el alto del elemento en metros: 3\n",
            "\n",
            "El peso del elemento de acero con un volumen de 84.00 m³ es: 659400.00 kg\n"
          ]
        }
      ]
    },
    {
      "cell_type": "markdown",
      "source": [
        "#Situación 1: Almacenamiento de Cargas Puntuales en una Viga\n",
        "\n",
        " Un ingeniero necesita registrar\n",
        " las diferentes cargas puntuales (en Kilonewtons) que actúan sobre una viga. El programa debe permitir\n",
        " registrar varias cargas, almacenarlas y luego mostrarlas junto con la carga máxima aplicada.\n",
        "\n",
        " • Paso a Paso del Código (Guía para el Notebook)\n",
        " 1. # Crear una lista vacía llamada 'cargas_viga'.\n",
        " 2. # Preguntar al usuario cuántas cargas puntuales desea ingresar.\n",
        " 3. # Usar un bucle 'for' que se repita ese número de veces.\n",
        " 4. # En cada iteración, pedir el valor de la carga en kN y añadirlo a la lista\n",
        " 'cargas_viga'.\n",
        " 5. # Una vez que el bucle termina, mostrar todas las cargas registradas.\n",
        " 6. # Utilizar la función max() para encontrar la carga más alta en la lista.\n",
        " 7. # Imprimir la carga máxima encontrada, indicando sus unidades (kN)."
      ],
      "metadata": {
        "id": "ZOJ0u-4wbj_o"
      }
    },
    {
      "cell_type": "markdown",
      "source": [],
      "metadata": {
        "id": "d0OemNv8e51H"
      }
    },
    {
      "cell_type": "code",
      "metadata": {
        "colab": {
          "base_uri": "https://localhost:8080/"
        },
        "id": "534d3769",
        "outputId": "bde75470-07f4-4740-a882-3824da7f6bc1"
      },
      "source": [
        "# 1. Crear una lista vacía llamada 'cargas_viga'.\n",
        "cargas_viga = []\n",
        "\n",
        "# 2. Preguntar al usuario cuántas cargas puntuales desea ingresar.\n",
        "try:\n",
        "    num_cargas = int(input(\"¿Cuántas cargas puntuales desea ingresar? \"))\n",
        "\n",
        "    # 3. Usar un bucle 'for' que se repita ese número de veces.\n",
        "    for i in range(num_cargas):\n",
        "        # 4. En cada iteración, pedir el valor de la carga en kN y añadirlo a la lista 'cargas_viga'.\n",
        "        while True:\n",
        "            try:\n",
        "                carga = float(input(f\"Ingrese el valor de la carga {i+1} en kN: \"))\n",
        "                cargas_viga.append(carga)\n",
        "                break # Salir del bucle while si la entrada es válida\n",
        "            except ValueError:\n",
        "                print(\"Entrada inválida. Por favor, ingrese un número para la carga.\")\n",
        "\n",
        "    # 5. Una vez que el bucle termina, mostrar todas las cargas registradas.\n",
        "    print(\"\\n--- Cargas Registradas ---\")\n",
        "    if cargas_viga:\n",
        "        for j, carga in enumerate(cargas_viga):\n",
        "            print(f\"Carga {j+1}: {carga} kN\")\n",
        "    else:\n",
        "        print(\"No se registraron cargas.\")\n",
        "\n",
        "    # 6. Utilizar la función max() para encontrar la carga más alta en la lista.\n",
        "    # 7. Imprimir la carga máxima encontrada, indicando sus unidades (kN).\n",
        "    if cargas_viga:\n",
        "        carga_maxima = max(cargas_viga)\n",
        "        print(f\"\\nLa carga máxima aplicada es: {carga_maxima} kN\")\n",
        "\n",
        "except ValueError:\n",
        "    print(\"Entrada inválida. Por favor, ingrese un número entero para la cantidad de cargas.\")"
      ],
      "execution_count": 5,
      "outputs": [
        {
          "output_type": "stream",
          "name": "stdout",
          "text": [
            "¿Cuántas cargas puntuales desea ingresar? 3\n",
            "Ingrese el valor de la carga 1 en kN: 40\n",
            "Ingrese el valor de la carga 2 en kN: 50\n",
            "Ingrese el valor de la carga 3 en kN: 80\n",
            "\n",
            "--- Cargas Registradas ---\n",
            "Carga 1: 40.0 kN\n",
            "Carga 2: 50.0 kN\n",
            "Carga 3: 80.0 kN\n",
            "\n",
            "La carga máxima aplicada es: 80.0 kN\n"
          ]
        }
      ]
    },
    {
      "cell_type": "markdown",
      "source": [
        " #Situación 2: Función para Calcular el Área de una Sección Transversal En el diseño estructural,\n",
        " es común calcular el área de diferentes secciones transversales (rectangulares, circulares, etc.). Crearás una\n",
        " función específica para calcular el área de una sección rectangular, que podrá ser reutilizada fácilmente.\n",
        "\n",
        " 3\n",
        "• Paso a Paso del Código (Guía para el Notebook)\n",
        " 1. # Definir una función llamada 'area_rectangulo' que acepte dos parámetros:\n",
        " 'base' y 'altura'.\n",
        " 2. # Dentro de la función, calcular el área multiplicando la base por la altura.\n",
        " 3. # La función debe devolver el resultado del cálculo.\n",
        " 4. # En el programa principal, simular el cálculo para dos elementos estructurales\n",
        " diferentes (ej. una viga y una columna).\n",
        " 5. # Para la viga, pedir su base y altura, llamar a la función 'area_rectangulo' y\n",
        " mostrar el resultado.\n",
        " 6. # Para la columna, pedir su base y altura, llamar a la MISMA función 'area_rectangulo'\n",
        " y mostrar el resultado.\n",
        " 7. # Resaltar cómo la función evitó tener que escribir la fórmula 'base * altura'\n",
        " dos veces."
      ],
      "metadata": {
        "id": "xgQO9CiMfeyo"
      }
    },
    {
      "cell_type": "code",
      "metadata": {
        "colab": {
          "base_uri": "https://localhost:8080/"
        },
        "id": "bc388db5",
        "outputId": "28a7a93a-2b16-43c7-cf9e-b5288eb0ee09"
      },
      "source": [
        "# 1. Definir una función llamada 'area_rectangulo' que acepte dos parámetros: 'base' y 'altura'.\n",
        "def area_rectangulo(base, altura):\n",
        "    \"\"\"\n",
        "    Calcula el área de una sección transversal rectangular.\n",
        "\n",
        "    Args:\n",
        "        base: La base del rectángulo (float).\n",
        "        altura: La altura del rectángulo (float).\n",
        "\n",
        "    Returns:\n",
        "        El área del rectángulo (float).\n",
        "    \"\"\"\n",
        "    # 2. Dentro de la función, calcular el área multiplicando la base por la altura.\n",
        "    area = base * altura\n",
        "    # 3. La función debe devolver el resultado del cálculo.\n",
        "    return area\n",
        "\n",
        "# 4. En el programa principal, simular el cálculo para dos elementos estructurales diferentes.\n",
        "print(\"--- Cálculo de Área de Sección Transversal Rectangular ---\")\n",
        "\n",
        "# 5. Para la viga, pedir su base y altura, llamar a la función 'area_rectangulo' y mostrar el resultado.\n",
        "print(\"\\nCálculo para una Viga:\")\n",
        "try:\n",
        "    base_viga = float(input(\"Ingrese la base de la viga en metros: \"))\n",
        "    altura_viga = float(input(\"Ingrese la altura de la viga en metros: \"))\n",
        "    area_viga = area_rectangulo(base_viga, altura_viga)\n",
        "    print(f\"El área de la sección transversal de la viga es: {area_viga:.2f} m²\")\n",
        "except ValueError:\n",
        "    print(\"Error: Por favor, ingrese valores numéricos válidos para las dimensiones de la viga.\")\n",
        "\n",
        "# 6. Para la columna, pedir su base y altura, llamar a la MISMA función 'area_rectangulo' y mostrar el resultado.\n",
        "print(\"\\nCálculo para una Columna:\")\n",
        "try:\n",
        "    base_columna = float(input(\"Ingrese la base de la columna en metros: \"))\n",
        "    altura_columna = float(input(\"Ingrese la altura de la columna en metros: \"))\n",
        "    area_columna = area_rectangulo(base_columna, altura_columna)\n",
        "    print(f\"El área de la sección transversal de la columna es: {area_columna:.2f} m²\")\n",
        "except ValueError:\n",
        "    print(\"Error: Por favor, ingrese valores numéricos válidos para las dimensiones de la columna.\")\n",
        "\n",
        "# 7. Resaltar cómo la función evitó tener que escribir la fórmula 'base * altura' dos veces.\n",
        "print(\"\\n--- Reutilización de la Función ---\")\n",
        "print(\"Hemos utilizado la misma función 'area_rectangulo' para calcular el área tanto de la viga como de la columna, lo que demuestra cómo las funciones nos permiten reutilizar código y evitar repetir cálculos.\")"
      ],
      "execution_count": null,
      "outputs": [
        {
          "output_type": "stream",
          "name": "stdout",
          "text": [
            "--- Cálculo de Área de Sección Transversal Rectangular ---\n",
            "\n",
            "Cálculo para una Viga:\n",
            "Ingrese la base de la viga en metros: 2\n",
            "Ingrese la altura de la viga en metros: 5\n",
            "El área de la sección transversal de la viga es: 10.00 m²\n",
            "\n",
            "Cálculo para una Columna:\n"
          ]
        }
      ]
    }
  ]
}