{
  "nbformat": 4,
  "nbformat_minor": 0,
  "metadata": {
    "colab": {
      "provenance": [],
      "authorship_tag": "ABX9TyNj+F0u/FngG2LFBfYH/XCw",
      "include_colab_link": true
    },
    "kernelspec": {
      "name": "python3",
      "display_name": "Python 3"
    },
    "language_info": {
      "name": "python"
    }
  },
  "cells": [
    {
      "cell_type": "markdown",
      "metadata": {
        "id": "view-in-github",
        "colab_type": "text"
      },
      "source": [
        "<a href=\"https://colab.research.google.com/github/Adryjulio/Prog_Civil_2025_2/blob/main/semana_4y_5.ipynb\" target=\"_parent\"><img src=\"https://colab.research.google.com/assets/colab-badge.svg\" alt=\"Open In Colab\"/></a>"
      ]
    },
    {
      "cell_type": "markdown",
      "source": [
        "# Situación de Interés en Ingeniería Civil ￿ :\n",
        " Un ingeniero estructural necesita calcular el peso de\n",
        " diferentes elementos de una construcción (vigas, columnas). El programa debe tener una base de datos\n",
        " con las densidades de materiales comunes (acero, concreto, madera) y, a partir del tipo de material y\n",
        " el volumen del elemento, debe calcular su peso total.\n",
        "\n",
        "  Caso de Ingeniería Civil: Calculadora de Peso Estructural (Diccionarios y Funciones)\n",
        " • Paso a Paso del Código:\n",
        " 1. Crear un diccionario que funcione como una base de datos de densidades. La clave será el\n",
        " nombre del material y el valor será su densidad en kg/m³.\n",
        " 2. Crear una función calcular_peso que reciba el diccionario de densidades, el nombre del material\n",
        " y su volumen.\n",
        " 3. Dentro de la función, buscar la densidad del material en el diccionario.\n",
        " 4. Si el material existe, calcular y devolver el peso (densidad * volumen). Si no, devolver un mensaje\n",
        " de error o None.\n",
        " 5. En el programa principal, pedir al usuario el tipo de material y las dimensiones del elemento para\n",
        " calcular su volumen.\n",
        " 6. Llamar a la función calcular_peso y mostrar el resultado."
      ],
      "metadata": {
        "id": "Ws51aBzBRt8W"
      }
    },
    {
      "cell_type": "code",
      "metadata": {
        "colab": {
          "base_uri": "https://localhost:8080/"
        },
        "id": "f0d59ca8",
        "outputId": "035d5e7a-9ccb-4312-8f34-c233f9a7c01d"
      },
      "source": [
        "# 1. Crear un diccionario de densidades\n",
        "densidades = {\n",
        "    \"acero\": 7850,  # kg/m³\n",
        "    \"concreto\": 2400, # kg/m³\n",
        "    \"madera\": 700    # kg/m³ (valor promedio, varía según tipo)\n",
        "}\n",
        "\n",
        "# 2. Crear la función calcular_peso\n",
        "def calcular_peso(diccionario_densidades, material, volumen):\n",
        "    \"\"\"\n",
        "    Calcula el peso de un elemento estructural.\n",
        "\n",
        "    Args:\n",
        "        diccionario_densidades: Diccionario con las densidades de los materiales.\n",
        "        material: Nombre del material (string).\n",
        "        volumen: Volumen del elemento en m³ (float).\n",
        "\n",
        "    Returns:\n",
        "        El peso del elemento en kg (float) si el material existe,\n",
        "        o un mensaje de error (string) si el material no se encuentra.\n",
        "    \"\"\"\n",
        "    if material.lower() in diccionario_densidades:\n",
        "        densidad = diccionario_densidades[material.lower()]\n",
        "        peso = densidad * volumen\n",
        "        return peso\n",
        "    else:\n",
        "        return f\"Error: Material '{material}' no encontrado en la base de datos de densidades.\"\n",
        "\n",
        "# 5. En el programa principal, pedir al usuario el tipo de material y las dimensiones\n",
        "\n",
        "print(\"--- Calculadora de Peso Estructural ---\")\n",
        "\n",
        "material_elemento = input(\"Ingrese el tipo de material (acero, concreto, madera): \")\n",
        "\n",
        "try:\n",
        "    largo = float(input(\"Ingrese el largo del elemento en metros: \"))\n",
        "    ancho = float(input(\"Ingrese el ancho del elemento en metros: \"))\n",
        "    alto = float(input(\"Ingrese el alto del elemento en metros: \"))\n",
        "\n",
        "    # Calcular el volumen\n",
        "    volumen_elemento = largo * ancho * alto\n",
        "\n",
        "    # 6. Llamar a la función calcular_peso y mostrar el resultado\n",
        "    peso_calculado = calcular_peso(densidades, material_elemento, volumen_elemento)\n",
        "\n",
        "    if isinstance(peso_calculado, (int, float)):\n",
        "        print(f\"\\nEl peso del elemento de {material_elemento} con un volumen de {volumen_elemento:.2f} m³ es: {peso_calculado:.2f} kg\")\n",
        "    else:\n",
        "        print(peso_calculado) # Muestra el mensaje de error\n",
        "\n",
        "except ValueError:\n",
        "    print(\"Error: Por favor, ingrese valores numéricos válidos para las dimensiones.\")"
      ],
      "execution_count": 4,
      "outputs": [
        {
          "output_type": "stream",
          "name": "stdout",
          "text": [
            "--- Calculadora de Peso Estructural ---\n",
            "Ingrese el tipo de material (acero, concreto, madera): acero\n",
            "Ingrese el largo del elemento en metros: 12\n",
            "Ingrese el ancho del elemento en metros: 5\n",
            "Ingrese el alto del elemento en metros: 1\n",
            "\n",
            "El peso del elemento de acero con un volumen de 60.00 m³ es: 471000.00 kg\n"
          ]
        }
      ]
    }
  ]
}