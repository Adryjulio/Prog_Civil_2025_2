{
  "nbformat": 4,
  "nbformat_minor": 0,
  "metadata": {
    "colab": {
      "provenance": [],
      "authorship_tag": "ABX9TyPX+Z0J3FnowDrzl7YxQeUj",
      "include_colab_link": true
    },
    "kernelspec": {
      "name": "python3",
      "display_name": "Python 3"
    },
    "language_info": {
      "name": "python"
    }
  },
  "cells": [
    {
      "cell_type": "markdown",
      "metadata": {
        "id": "view-in-github",
        "colab_type": "text"
      },
      "source": [
        "<a href=\"https://colab.research.google.com/github/Adryjulio/Prog_Civil_2025_2/blob/main/semana_4y_5.ipynb\" target=\"_parent\"><img src=\"https://colab.research.google.com/assets/colab-badge.svg\" alt=\"Open In Colab\"/></a>"
      ]
    },
    {
      "cell_type": "markdown",
      "source": [
        "#Situación 1: Almacenamiento de Cargas Puntuales en una Viga\n",
        "\n",
        " Un ingeniero necesita registrar\n",
        " las diferentes cargas puntuales (en Kilonewtons) que actúan sobre una viga. El programa debe permitir\n",
        " registrar varias cargas, almacenarlas y luego mostrarlas junto con la carga máxima aplicada.\n",
        "\n",
        " • Paso a Paso del Código (Guía para el Notebook)\n",
        " 1. # Crear una lista vacía llamada 'cargas_viga'.\n",
        " 2. # Preguntar al usuario cuántas cargas puntuales desea ingresar.\n",
        " 3. # Usar un bucle 'for' que se repita ese número de veces.\n",
        " 4. # En cada iteración, pedir el valor de la carga en kN y añadirlo a la lista\n",
        " 'cargas_viga'.\n",
        " 5. # Una vez que el bucle termina, mostrar todas las cargas registradas.\n",
        " 6. # Utilizar la función max() para encontrar la carga más alta en la lista.\n",
        " 7. # Imprimir la carga máxima encontrada, indicando sus unidades (kN)."
      ],
      "metadata": {
        "id": "ZOJ0u-4wbj_o"
      }
    },
    {
      "cell_type": "code",
      "metadata": {
        "colab": {
          "base_uri": "https://localhost:8080/"
        },
        "id": "534d3769",
        "outputId": "bde75470-07f4-4740-a882-3824da7f6bc1"
      },
      "source": [
        "# 1. Crear una lista vacía llamada 'cargas_viga'.\n",
        "cargas_viga = []\n",
        "\n",
        "# 2. Preguntar al usuario cuántas cargas puntuales desea ingresar.\n",
        "try:\n",
        "    num_cargas = int(input(\"¿Cuántas cargas puntuales desea ingresar? \"))\n",
        "\n",
        "    # 3. Usar un bucle 'for' que se repita ese número de veces.\n",
        "    for i in range(num_cargas):\n",
        "        # 4. En cada iteración, pedir el valor de la carga en kN y añadirlo a la lista 'cargas_viga'.\n",
        "        while True:\n",
        "            try:\n",
        "                carga = float(input(f\"Ingrese el valor de la carga {i+1} en kN: \"))\n",
        "                cargas_viga.append(carga)\n",
        "                break # Salir del bucle while si la entrada es válida\n",
        "            except ValueError:\n",
        "                print(\"Entrada inválida. Por favor, ingrese un número para la carga.\")\n",
        "\n",
        "    # 5. Una vez que el bucle termina, mostrar todas las cargas registradas.\n",
        "    print(\"\\n--- Cargas Registradas ---\")\n",
        "    if cargas_viga:\n",
        "        for j, carga in enumerate(cargas_viga):\n",
        "            print(f\"Carga {j+1}: {carga} kN\")\n",
        "    else:\n",
        "        print(\"No se registraron cargas.\")\n",
        "\n",
        "    # 6. Utilizar la función max() para encontrar la carga más alta en la lista.\n",
        "    # 7. Imprimir la carga máxima encontrada, indicando sus unidades (kN).\n",
        "    if cargas_viga:\n",
        "        carga_maxima = max(cargas_viga)\n",
        "        print(f\"\\nLa carga máxima aplicada es: {carga_maxima} kN\")\n",
        "\n",
        "except ValueError:\n",
        "    print(\"Entrada inválida. Por favor, ingrese un número entero para la cantidad de cargas.\")"
      ],
      "execution_count": 5,
      "outputs": [
        {
          "output_type": "stream",
          "name": "stdout",
          "text": [
            "¿Cuántas cargas puntuales desea ingresar? 3\n",
            "Ingrese el valor de la carga 1 en kN: 40\n",
            "Ingrese el valor de la carga 2 en kN: 50\n",
            "Ingrese el valor de la carga 3 en kN: 80\n",
            "\n",
            "--- Cargas Registradas ---\n",
            "Carga 1: 40.0 kN\n",
            "Carga 2: 50.0 kN\n",
            "Carga 3: 80.0 kN\n",
            "\n",
            "La carga máxima aplicada es: 80.0 kN\n"
          ]
        }
      ]
    }
  ]
}