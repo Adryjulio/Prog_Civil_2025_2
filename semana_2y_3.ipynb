{
  "nbformat": 4,
  "nbformat_minor": 0,
  "metadata": {
    "colab": {
      "provenance": [],
      "authorship_tag": "ABX9TyM5lDE6OTfXwIFloTim6L/p",
      "include_colab_link": true
    },
    "kernelspec": {
      "name": "python3",
      "display_name": "Python 3"
    },
    "language_info": {
      "name": "python"
    }
  },
  "cells": [
    {
      "cell_type": "markdown",
      "metadata": {
        "id": "view-in-github",
        "colab_type": "text"
      },
      "source": [
        "<a href=\"https://colab.research.google.com/github/Adryjulio/Prog_Civil_2025_2/blob/main/semana_2y_3.ipynb\" target=\"_parent\"><img src=\"https://colab.research.google.com/assets/colab-badge.svg\" alt=\"Open In Colab\"/></a>"
      ]
    },
    {
      "cell_type": "markdown",
      "source": [
        "#Situación 1: Clasificador de pH del Suelo\n",
        "El pH del suelo es un factor crítico para la absorción de\n",
        "nutrientes por parte de las plantas. Desarrollarás un programa que recibe un valor de pH e informa al\n",
        "agricultor si el suelo es ácido, neutro o alcalino, ofreciendo una recomendación general"
      ],
      "metadata": {
        "id": "FFKVoO80MCic"
      }
    },
    {
      "cell_type": "code",
      "execution_count": 1,
      "metadata": {
        "colab": {
          "base_uri": "https://localhost:8080/"
        },
        "id": "59fmKBtWKxcY",
        "outputId": "af6cb200-21b4-47ac-cbbb-73baf526ffd0"
      },
      "outputs": [
        {
          "output_type": "stream",
          "name": "stdout",
          "text": [
            "Este programa clasifica el pH del suelo.\n",
            "Ingrese el valor de pH medido: 4\n",
            "El suelo es ácido.\n",
            "Recomendamos el uso de cal agrícola.\n"
          ]
        }
      ],
      "source": [
        "# Explicar al usuario que el programa clasifica el pH del suelo.\n",
        "print(\"Este programa clasifica el pH del suelo.\")\n",
        "\n",
        "# Pedir al usuario que ingrese el valor de pH medido (puede ser decimal).\n",
        "# Guardar el valor en una variable.\n",
        "ph = float(input(\"Ingrese el valor de pH medido: \"))\n",
        "\n",
        "# Utilizar una estructura 'if' para la primera condición: si el pH es menor que 7.\n",
        "if ph < 7:\n",
        "  # dentro del 'if', mostrar un mensaje indicando que el suelo es \" Acido\" y recomendar el uso de cal agricola.\n",
        "  print(\"El suelo es ácido.\")\n",
        "  print(\"Recomendamos el uso de cal agrícola.\")\n",
        "# utilizar una estructura 'elif', mostrar un mensaje indicando que el suelo es \"alcalino\" y recomendar el uso de sulfato.\n",
        "elif ph > 7:\n",
        "  print(\"El suelo es alcalino.\")\n",
        "  print(\"Recomendamos el uso de sulfato.\")\n",
        "else:\n",
        "# Utilizar una estructura 'else' para el caso restante (entre 6.5 y 7.5).\n",
        "# Dentro del 'else', mostrar un mensaje indicando que el suelo es \"Neutro\" y que es ideal para la mayoría de los cultivos.\n",
        "  print(\"El suelo es neutro.\")\n",
        "  print(\"No se requieren correcciones de pH.\")"
      ]
    },
    {
      "cell_type": "markdown",
      "source": [
        "# Situación 2: Verificación de Resistencia de Concreto\n",
        "Un laboratorio de materiales ensaya probetas de concreto a los 28 días. El concreto es de tipo “G-25”, lo que significa que debe tener una resistencia mínima de 25 MPa.\n",
        "\n",
        "El programa debe indicar si la probeta cumple, está por debajo o supera excepcionalmente la norma (más de 30 MPa).\n",
        "\n",
        " Paso a Paso del Código (Guía para el Notebook)\n",
        " 1. # Explicar que el programa verifica la resistencia de una probeta de concreto.\n",
        " 2. # Pedir al usuario que ingrese la resistencia obtenida en el ensayo (en MPa).\n",
        " 3. # Almacenar el resultado en una variable.\n",
        " 4. # Usar una condición 'if' para ver si la resistencia es menor a 25.\n",
        " 5. # Si es así, imprimir \"NO CUMPLE con la norma G-25\".\n",
        " 6. # Usar una condición 'elif' para ver si la resistencia es mayor o igual a 25 Y a\n",
        " la vez menor o igual a 30.\n",
        " 7. # Si es así, imprimir \"CUMPLE con la norma G-25\".\n",
        " 8. # Usar 'else' para el caso restante (mayor a 30).\n",
        " 9. # En el 'else', imprimir \"CUMPLE y supera excepcionalmente la norma G-25\"."
      ],
      "metadata": {
        "id": "SV0CKjX5OAkm"
      }
    },
    {
      "cell_type": "code",
      "metadata": {
        "colab": {
          "base_uri": "https://localhost:8080/"
        },
        "id": "647331ac",
        "outputId": "5d38eaab-8aa6-414c-9a4d-6b01558ae3bb"
      },
      "source": [
        "# Explicar que el programa verifica la resistencia de una probeta de concreto.\n",
        "print(\"Este programa verifica la resistencia de una probeta de concreto.\")\n",
        "\n",
        "# Pedir al usuario que ingrese la resistencia obtenida en el ensayo (en MPa).\n",
        "# Almacenar el resultado en una variable.\n",
        "resistencia = float(input(\"Ingrese la resistencia obtenida en el ensayo (en MPa): \"))\n",
        "\n",
        "# Usar una condición 'if' para ver si la resistencia es menor a 25.\n",
        "if resistencia < 25:\n",
        "  # Si es así, imprimir \"NO CUMPLE con la norma G-25\".\n",
        "  print(\"NO CUMPLE con la norma G-25.\")\n",
        "# Usar una condición 'elif' para ver si la resistencia es mayor o igual a 25 Y a la vez menor o igual a 30.\n",
        "elif resistencia >= 25 and resistencia <= 30:\n",
        "  # Si es así, imprimir \"CUMPLE con la norma G-25\".\n",
        "  print(\"CUMPLE con la norma G-25.\")\n",
        "# Usar 'else' para el caso restante (mayor a 30).\n",
        "else:\n",
        "  # En el 'else', imprimir \"CUMPLE y supera excepcionalmente la norma G-25\".\n",
        "  print(\"CUMPLE y supera excepcionalmente la norma G-25.\")"
      ],
      "execution_count": 2,
      "outputs": [
        {
          "output_type": "stream",
          "name": "stdout",
          "text": [
            "Este programa verifica la resistencia de una probeta de concreto.\n",
            "Ingrese la resistencia obtenida en el ensayo (en MPa): 20\n",
            "NO CUMPLE con la norma G-25.\n"
          ]
        }
      ]
    }
  ]
}